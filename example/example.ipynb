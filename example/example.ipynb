{
 "cells": [
  {
   "cell_type": "code",
   "execution_count": 1,
   "id": "701078b6",
   "metadata": {},
   "outputs": [],
   "source": [
    "import os\n",
    "import sys\n",
    "import numpy as np\n",
    "import pandas as pd\n",
    "from tensorqtl import tensorqtl, cis, post, genotypeio\n",
    "import rpgQTL"
   ]
  },
  {
   "cell_type": "code",
   "execution_count": 2,
   "id": "3534a806",
   "metadata": {},
   "outputs": [],
   "source": [
    "phenotype_df, phenotype_pos_df = tensorqtl.read_phenotype_bed(\"./input/expression.bed.gz\")\n",
    "covariates_df = pd.read_csv(\"./input/covariates.txt\", sep='\\t', index_col=0).T\n",
    "genotype_df = pd.read_csv(\"./input/genotype.txt.gz\", sep=\"\\t\", index_col=0)\n",
    "variant_df = pd.read_csv(\"./input/variant.txt.gz\", sep=\"\\t\", index_col=0)\n",
    "rpg_df = pd.read_csv(\"./input/region.bed\", sep=\"\\t\", header=None)"
   ]
  },
  {
   "cell_type": "code",
   "execution_count": 3,
   "id": "39fb650e",
   "metadata": {},
   "outputs": [],
   "source": [
    "result_dir = \"./output/\"\n",
    "prefix = \"RPG\""
   ]
  },
  {
   "cell_type": "code",
   "execution_count": 4,
   "id": "1494114e",
   "metadata": {},
   "outputs": [
    {
     "name": "stdout",
     "output_type": "stream",
     "text": [
      "cis-QTL mapping: nominal associations for all variant-phenotype pairs\n",
      "  * 200 samples\n",
      "  * 572 phenotypes\n",
      "  * 38 covariates\n",
      "  * 237916 variants\n"
     ]
    },
    {
     "name": "stderr",
     "output_type": "stream",
     "text": [
      "/cellar/users/jig049/miniconda3/envs/rpgQTL/lib/python3.9/site-packages/tensorqtl/core.py:53: UserWarning: torch.qr is deprecated in favor of torch.linalg.qr and will be removed in a future PyTorch release.\n",
      "The boolean parameter 'some' has been replaced with a string parameter 'mode'.\n",
      "Q, R = torch.qr(A, some)\n",
      "should be replaced with\n",
      "Q, R = torch.linalg.qr(A, 'reduced' if some else 'complete') (Triggered internally at /croot/pytorch-select_1717607455294/work/aten/src/ATen/native/BatchLinearAlgebra.cpp:2416.)\n",
      "  self.Q_t, _ = torch.qr(C_t - C_t.mean(0))\n"
     ]
    },
    {
     "name": "stdout",
     "output_type": "stream",
     "text": [
      "    ** dropping 315 phenotypes without variants\n",
      "  * Computing associations\n",
      "    Mapping chromosome chr20\n",
      "    processing phenotype 257/257\n",
      "    time elapsed: 0.06 min\n",
      "    * writing output\n",
      "done.\n",
      "    processing phenotype 257/257\n"
     ]
    }
   ],
   "source": [
    "## nominal run\n",
    "rpgQTL.run_nominal(genotype_df, variant_df, phenotype_df, phenotype_pos_df, covariates_df,\n",
    "    rpg_df, l_window=2000000, s_window=0, RType='remove',\n",
    "    output_dir=result_dir, prefix=prefix)"
   ]
  },
  {
   "cell_type": "code",
   "execution_count": 5,
   "id": "0c8746e2",
   "metadata": {
    "scrolled": true
   },
   "outputs": [
    {
     "name": "stdout",
     "output_type": "stream",
     "text": [
      "cis-QTL mapping: empirical p-values for phenotypes\n",
      "  * 200 samples\n",
      "  * 572 phenotypes\n",
      "  * 38 covariates\n",
      "  * 237916 variants\n",
      "  * using seed 123456\n",
      "    ** dropping 315 phenotypes without variants\n",
      "  * computing permutations\n",
      "    * WARNING: excluding 6 monomorphic variants\n",
      "    * WARNING: excluding 5 monomorphic variants\n",
      "    * WARNING: excluding 1 monomorphic variants\n",
      "    * WARNING: excluding 1 monomorphic variants\n",
      "    * WARNING: excluding 3 monomorphic variants\n",
      "    * WARNING: excluding 2 monomorphic variants\n",
      "    * WARNING: excluding 1 monomorphic variants\n",
      "    * WARNING: excluding 1 monomorphic variants\n",
      "    * WARNING: excluding 3 monomorphic variants\n",
      "    * WARNING: excluding 3 monomorphic variants\n",
      "    * WARNING: excluding 3 monomorphic variants\n",
      "    * WARNING: excluding 3 monomorphic variants\n",
      "    * WARNING: excluding 3 monomorphic variants\n",
      "    * WARNING: excluding 3 monomorphic variants\n",
      "    * WARNING: excluding 1 monomorphic variants\n",
      "    * WARNING: excluding 2 monomorphic variants\n",
      "    * WARNING: excluding 1 monomorphic variants\n",
      "    * WARNING: excluding 1 monomorphic variants\n",
      "    * WARNING: excluding 1 monomorphic variants\n",
      "    * WARNING: excluding 1 monomorphic variants\n",
      "    * WARNING: excluding 1 monomorphic variants\n",
      "    * WARNING: excluding 1 monomorphic variants\n",
      "    * WARNING: excluding 1 monomorphic variants\n",
      "    * WARNING: excluding 2 monomorphic variants\n",
      "    * WARNING: excluding 4 monomorphic variants\n",
      "    * WARNING: excluding 4 monomorphic variants\n",
      "    * WARNING: excluding 1 monomorphic variants\n",
      "    * WARNING: excluding 1 monomorphic variants\n",
      "    * WARNING: excluding 1 monomorphic variants\n",
      "    * WARNING: excluding 1 monomorphic variants\n",
      "    * WARNING: excluding 1 monomorphic variants\n",
      "    * WARNING: excluding 1 monomorphic variants\n",
      "    * WARNING: excluding 2 monomorphic variants\n",
      "    * WARNING: excluding 2 monomorphic variants\n",
      "    * WARNING: excluding 2 monomorphic variants\n",
      "    * WARNING: excluding 2 monomorphic variants\n",
      "    * WARNING: excluding 2 monomorphic variants\n",
      "    * WARNING: excluding 1 monomorphic variants\n",
      "    * WARNING: excluding 1 monomorphic variants\n",
      "    * WARNING: excluding 1 monomorphic variants\n",
      "    * WARNING: excluding 1 monomorphic variants\n",
      "    * WARNING: excluding 1 monomorphic variants\n",
      "    * WARNING: excluding 2 monomorphic variants\n",
      "    * WARNING: excluding 1 monomorphic variants\n",
      "    * WARNING: excluding 1 monomorphic variants\n",
      "    * WARNING: excluding 1 monomorphic variants\n",
      "    * WARNING: excluding 1 monomorphic variants\n",
      "    * WARNING: excluding 1 monomorphic variants\n",
      "    * WARNING: excluding 1 monomorphic variants\n",
      "    * WARNING: excluding 1 monomorphic variants\n",
      "    * WARNING: excluding 2 monomorphic variants\n",
      "    * WARNING: excluding 1 monomorphic variants\n",
      "    * WARNING: excluding 1 monomorphic variants\n",
      "    * WARNING: excluding 1 monomorphic variants\n",
      "    * WARNING: excluding 1 monomorphic variants\n",
      "    * WARNING: excluding 5 monomorphic variants\n",
      "    * WARNING: excluding 1 monomorphic variants\n",
      "    * WARNING: excluding 1 monomorphic variants\n",
      "    * WARNING: excluding 4 monomorphic variants\n",
      "    * WARNING: excluding 4 monomorphic variants\n",
      "    * WARNING: excluding 4 monomorphic variants\n",
      "    * WARNING: excluding 4 monomorphic variants\n",
      "    * WARNING: excluding 2 monomorphic variants\n",
      "    * WARNING: excluding 2 monomorphic variants\n",
      "    * WARNING: excluding 2 monomorphic variants\n",
      "    * WARNING: excluding 2 monomorphic variants\n",
      "    * WARNING: excluding 6 monomorphic variants\n",
      "    * WARNING: excluding 6 monomorphic variants\n",
      "    * WARNING: excluding 9 monomorphic variants\n",
      "    * WARNING: excluding 3 monomorphic variants\n",
      "    * WARNING: excluding 4 monomorphic variants\n",
      "    * WARNING: excluding 1 monomorphic variants\n",
      "    * WARNING: excluding 1 monomorphic variants\n",
      "    * WARNING: excluding 1 monomorphic variants\n",
      "    * WARNING: excluding 2 monomorphic variants\n",
      "    * WARNING: excluding 2 monomorphic variants\n",
      "    * WARNING: excluding 2 monomorphic variants\n",
      "    * WARNING: excluding 1 monomorphic variants\n",
      "    * WARNING: excluding 1 monomorphic variants\n",
      "    * WARNING: excluding 1 monomorphic variants\n",
      "    * WARNING: excluding 1 monomorphic variants\n",
      "    * WARNING: excluding 1 monomorphic variants\n",
      "    * WARNING: excluding 1 monomorphic variants\n",
      "    * WARNING: excluding 1 monomorphic variants\n",
      "    * WARNING: excluding 3 monomorphic variants\n",
      "    * WARNING: excluding 3 monomorphic variants\n",
      "    * WARNING: excluding 3 monomorphic variants\n",
      "    * WARNING: excluding 3 monomorphic variants\n",
      "    * WARNING: excluding 3 monomorphic variants\n",
      "    * WARNING: excluding 3 monomorphic variants\n",
      "    * WARNING: excluding 3 monomorphic variants\n",
      "    * WARNING: excluding 3 monomorphic variants\n",
      "    * WARNING: excluding 1 monomorphic variants\n",
      "    * WARNING: excluding 1 monomorphic variants\n",
      "    * WARNING: excluding 1 monomorphic variants\n",
      "  Time elapsed: 0.47 min\n",
      "done.\n"
     ]
    }
   ],
   "source": [
    "## permutation run\n",
    "egenes_df = rpgQTL.run_permutation(genotype_df, variant_df, phenotype_df, phenotype_pos_df, covariates_df, \n",
    "    rpg_df, l_window=2000000, s_window=0, RType='remove', seed=123456)"
   ]
  },
  {
   "cell_type": "code",
   "execution_count": 6,
   "id": "bb80cb73",
   "metadata": {},
   "outputs": [
    {
     "name": "stdout",
     "output_type": "stream",
     "text": [
      "Computing q-values\n",
      "  * Number of phenotypes tested: 257\n",
      "  * Correlation between Beta-approximated and empirical p-values: : 1.0000\n",
      "  * Calculating q-values with lambda = 0.850\n",
      "  * Proportion of significant phenotypes (1-pi0): 0.12\n",
      "  * QTL phenotypes @ FDR 0.05: 38\n",
      "  * min p-value threshold @ FDR 0.05: 0.00868242\n"
     ]
    },
    {
     "name": "stderr",
     "output_type": "stream",
     "text": [
      "/cellar/users/jig049/miniconda3/envs/rpgQTL/lib/python3.9/site-packages/tensorqtl/post.py:53: FutureWarning: Series.__getitem__ treating keys as positions is deprecated. In a future version, integer keys will always be treated as labels (consistent with DataFrame behavior). To access a value by position, use `ser.iloc[pos]`\n",
      "  lb = lb[-1]\n",
      "/cellar/users/jig049/miniconda3/envs/rpgQTL/lib/python3.9/site-packages/tensorqtl/post.py:55: FutureWarning: Series.__getitem__ treating keys as positions is deprecated. In a future version, integer keys will always be treated as labels (consistent with DataFrame behavior). To access a value by position, use `ser.iloc[pos]`\n",
      "  ub = ub[0]\n"
     ]
    }
   ],
   "source": [
    "## calculate q-values\n",
    "post.calculate_qvalues(egenes_df, fdr=0.05, qvalue_lambda=0.85)\n",
    "egenes_df.to_csv(\"%s/%s.egenes.tsv\" % (result_dir, prefix), index=True)"
   ]
  },
  {
   "cell_type": "code",
   "execution_count": 7,
   "id": "b1f2f111",
   "metadata": {},
   "outputs": [
    {
     "name": "stdout",
     "output_type": "stream",
     "text": [
      "[Aug 06 14:59:12] tensorQTL: filtering significant variant-phenotype pairs\n",
      "  * parsing significant variant-phenotype pairs for chr. 1/1\n",
      "[Aug 06 14:59:12] done\n"
     ]
    }
   ],
   "source": [
    "## significant pairs\n",
    "pairs_df = post.get_significant_pairs(egenes_df, \"%s/%s\" % (result_dir, prefix))\n",
    "pairs_df.to_csv(\"%s/%s.sig_pairs.tsv\" % (result_dir, prefix), index=False)"
   ]
  },
  {
   "cell_type": "code",
   "execution_count": 8,
   "id": "6aadc4ab",
   "metadata": {},
   "outputs": [
    {
     "name": "stdout",
     "output_type": "stream",
     "text": [
      "cis-QTL mapping: conditionally independent variants\n",
      "  * 200 samples\n",
      "  * 38/257 significant phenotypes\n",
      "  * 38 covariates\n",
      "  * 237916 variants\n",
      "  * using seed 123456\n",
      "  * computing independent QTLs\n",
      "    processing phenotype 38/38\n",
      "  Time elapsed: 0.09 min\n",
      "done.\n"
     ]
    }
   ],
   "source": [
    "## independent eQTL\n",
    "indep_df = rpgQTL.run_independent(genotype_df, variant_df, egenes_df, phenotype_df, phenotype_pos_df, covariates_df, \n",
    "    rpg_df, l_window=2000000, s_window=0, RType='remove', seed=123456)\n",
    "indep_df.to_csv(\"%s/%s.indep.tsv\" % (result_dir, prefix), index=False)"
   ]
  }
 ],
 "metadata": {
  "kernelspec": {
   "display_name": "Python 3 (ipykernel)",
   "language": "python",
   "name": "python3"
  },
  "language_info": {
   "codemirror_mode": {
    "name": "ipython",
    "version": 3
   },
   "file_extension": ".py",
   "mimetype": "text/x-python",
   "name": "python",
   "nbconvert_exporter": "python",
   "pygments_lexer": "ipython3",
   "version": "3.9.19"
  }
 },
 "nbformat": 4,
 "nbformat_minor": 5
}
