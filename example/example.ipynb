{
 "cells": [
  {
   "cell_type": "code",
   "execution_count": 1,
   "id": "701078b6",
   "metadata": {},
   "outputs": [],
   "source": [
    "import os\n",
    "import sys\n",
    "import numpy as np\n",
    "import pandas as pd\n",
    "sys.path.insert(1, '../tensorqtl-1.0.5/tensorqtl/')\n",
    "import tensorqtl, cis, post, genotypeio\n",
    "sys.path.insert(1, '../rpgqtl/')\n",
    "import rpgQTL"
   ]
  },
  {
   "cell_type": "code",
   "execution_count": 2,
   "id": "3534a806",
   "metadata": {},
   "outputs": [],
   "source": [
    "phenotype_df, phenotype_pos_df = tensorqtl.read_phenotype_bed(\"./input/expression.bed.gz\")\n",
    "covariates_df = pd.read_csv(\"./input/covariates.txt\", sep='\\t', index_col=0).T\n",
    "genotype_df = pd.read_csv(\"./input/genotype.txt.gz\", sep=\"\\t\", index_col=0)\n",
    "variant_df = pd.read_csv(\"./input/variant.txt.gz\", sep=\"\\t\", index_col=0)\n",
    "rpg_df = pd.read_csv(\"./input/region.bed\", sep=\"\\t\", header=None)"
   ]
  },
  {
   "cell_type": "code",
   "execution_count": 3,
   "id": "39fb650e",
   "metadata": {},
   "outputs": [],
   "source": [
    "result_dir = \"./output/\"\n",
    "prefix = \"RPG\""
   ]
  },
  {
   "cell_type": "code",
   "execution_count": 4,
   "id": "1494114e",
   "metadata": {},
   "outputs": [
    {
     "name": "stdout",
     "output_type": "stream",
     "text": [
      "cis-QTL mapping: nominal associations for all variant-phenotype pairs\n",
      "  * 200 samples\n",
      "  * 572 phenotypes\n",
      "  * 38 covariates\n",
      "  * 237916 variants\n",
      "    ** dropping 315 phenotypes without variants\n",
      "  * Computing associations\n",
      "    Mapping chromosome chr20\n",
      "    processing phenotype 257/257\n",
      "    time elapsed: 0.02 min\n",
      "    * writing output\n",
      "done.\n"
     ]
    }
   ],
   "source": [
    "## nominal run\n",
    "rpgQTL.run_nominal(genotype_df, variant_df, phenotype_df, phenotype_pos_df, covariates_df,\n",
    "    rpg_df, l_window=2000000, s_window=0, NonHiCType='remove',\n",
    "    output_dir=result_dir, prefix=prefix)"
   ]
  },
  {
   "cell_type": "code",
   "execution_count": 5,
   "id": "0c8746e2",
   "metadata": {},
   "outputs": [
    {
     "name": "stdout",
     "output_type": "stream",
     "text": [
      "cis-QTL mapping: empirical p-values for phenotypes\n",
      "  * 200 samples\n",
      "  * 572 phenotypes\n",
      "  * 38 covariates\n",
      "  * 237916 variants\n",
      "  * using seed 123456\n",
      "    ** dropping 315 phenotypes without variants\n",
      "  * computing permutations\n",
      "    processing phenotype 10/257    * WARNING: excluding 6 monomorphic variants\n",
      "    processing phenotype 13/257    * WARNING: excluding 5 monomorphic variants\n",
      "    processing phenotype 15/257    * WARNING: excluding 1 monomorphic variants\n",
      "    processing phenotype 20/257    * WARNING: excluding 1 monomorphic variants\n",
      "    processing phenotype 24/257    * WARNING: excluding 3 monomorphic variants\n",
      "    processing phenotype 26/257    * WARNING: excluding 2 monomorphic variants\n",
      "    processing phenotype 32/257    * WARNING: excluding 1 monomorphic variants\n",
      "    processing phenotype 34/257    * WARNING: excluding 1 monomorphic variants\n",
      "    * WARNING: excluding 3 monomorphic variants\n",
      "    processing phenotype 35/257    * WARNING: excluding 3 monomorphic variants\n",
      "    processing phenotype 37/257    * WARNING: excluding 3 monomorphic variants\n",
      "    processing phenotype 40/257    * WARNING: excluding 3 monomorphic variants\n",
      "    * WARNING: excluding 3 monomorphic variants\n",
      "    processing phenotype 42/257    * WARNING: excluding 3 monomorphic variants\n",
      "    * WARNING: excluding 1 monomorphic variants\n",
      "    processing phenotype 49/257    * WARNING: excluding 2 monomorphic variants\n",
      "    processing phenotype 59/257    * WARNING: excluding 1 monomorphic variants\n",
      "    processing phenotype 61/257    * WARNING: excluding 1 monomorphic variants\n",
      "    * WARNING: excluding 1 monomorphic variants\n",
      "    processing phenotype 69/257    * WARNING: excluding 1 monomorphic variants\n",
      "    processing phenotype 70/257    * WARNING: excluding 1 monomorphic variants\n",
      "    processing phenotype 82/257    * WARNING: excluding 1 monomorphic variants\n",
      "    processing phenotype 92/257    * WARNING: excluding 1 monomorphic variants\n",
      "    processing phenotype 93/257    * WARNING: excluding 2 monomorphic variants\n",
      "    processing phenotype 96/257    * WARNING: excluding 4 monomorphic variants\n",
      "    processing phenotype 97/257    * WARNING: excluding 4 monomorphic variants\n",
      "    processing phenotype 103/257    * WARNING: excluding 1 monomorphic variants\n",
      "    processing phenotype 104/257    * WARNING: excluding 1 monomorphic variants\n",
      "    processing phenotype 105/257    * WARNING: excluding 1 monomorphic variants\n",
      "    processing phenotype 106/257    * WARNING: excluding 1 monomorphic variants\n",
      "    processing phenotype 107/257    * WARNING: excluding 1 monomorphic variants\n",
      "    processing phenotype 108/257    * WARNING: excluding 1 monomorphic variants\n",
      "    processing phenotype 112/257    * WARNING: excluding 2 monomorphic variants\n",
      "    processing phenotype 113/257    * WARNING: excluding 2 monomorphic variants\n",
      "    processing phenotype 115/257    * WARNING: excluding 2 monomorphic variants\n",
      "    * WARNING: excluding 2 monomorphic variants\n",
      "    processing phenotype 117/257    * WARNING: excluding 2 monomorphic variants\n",
      "    processing phenotype 118/257    * WARNING: excluding 1 monomorphic variants\n",
      "    processing phenotype 119/257    * WARNING: excluding 1 monomorphic variants\n",
      "    processing phenotype 124/257    * WARNING: excluding 1 monomorphic variants\n",
      "    processing phenotype 125/257    * WARNING: excluding 1 monomorphic variants\n",
      "    processing phenotype 126/257    * WARNING: excluding 1 monomorphic variants\n",
      "    processing phenotype 140/257    * WARNING: excluding 2 monomorphic variants\n",
      "    processing phenotype 150/257    * WARNING: excluding 1 monomorphic variants\n",
      "    processing phenotype 152/257    * WARNING: excluding 1 monomorphic variants\n",
      "    * WARNING: excluding 1 monomorphic variants\n",
      "    processing phenotype 160/257    * WARNING: excluding 1 monomorphic variants\n",
      "    processing phenotype 168/257    * WARNING: excluding 1 monomorphic variants\n",
      "    processing phenotype 170/257    * WARNING: excluding 1 monomorphic variants\n",
      "    processing phenotype 172/257    * WARNING: excluding 1 monomorphic variants\n",
      "    processing phenotype 174/257    * WARNING: excluding 2 monomorphic variants\n",
      "    processing phenotype 177/257    * WARNING: excluding 1 monomorphic variants\n",
      "    processing phenotype 179/257    * WARNING: excluding 1 monomorphic variants\n",
      "    * WARNING: excluding 1 monomorphic variants\n",
      "    processing phenotype 181/257    * WARNING: excluding 1 monomorphic variants\n",
      "    processing phenotype 183/257    * WARNING: excluding 5 monomorphic variants\n",
      "    processing phenotype 187/257    * WARNING: excluding 1 monomorphic variants\n",
      "    * WARNING: excluding 1 monomorphic variants\n",
      "    processing phenotype 190/257    * WARNING: excluding 4 monomorphic variants\n",
      "    processing phenotype 192/257    * WARNING: excluding 4 monomorphic variants\n",
      "    * WARNING: excluding 4 monomorphic variants\n",
      "    processing phenotype 194/257    * WARNING: excluding 4 monomorphic variants\n",
      "    processing phenotype 196/257    * WARNING: excluding 2 monomorphic variants\n",
      "    * WARNING: excluding 2 monomorphic variants\n",
      "    processing phenotype 199/257    * WARNING: excluding 2 monomorphic variants\n",
      "    processing phenotype 200/257    * WARNING: excluding 2 monomorphic variants\n",
      "    processing phenotype 201/257    * WARNING: excluding 6 monomorphic variants\n",
      "    processing phenotype 203/257    * WARNING: excluding 6 monomorphic variants\n",
      "    processing phenotype 204/257    * WARNING: excluding 9 monomorphic variants\n",
      "    processing phenotype 205/257    * WARNING: excluding 3 monomorphic variants\n",
      "    processing phenotype 206/257    * WARNING: excluding 4 monomorphic variants\n",
      "    processing phenotype 211/257    * WARNING: excluding 1 monomorphic variants\n",
      "    processing phenotype 216/257    * WARNING: excluding 1 monomorphic variants\n",
      "    processing phenotype 217/257    * WARNING: excluding 1 monomorphic variants\n",
      "    processing phenotype 218/257    * WARNING: excluding 2 monomorphic variants\n",
      "    processing phenotype 219/257    * WARNING: excluding 2 monomorphic variants\n",
      "    processing phenotype 220/257    * WARNING: excluding 2 monomorphic variants\n",
      "    processing phenotype 224/257    * WARNING: excluding 1 monomorphic variants\n",
      "    processing phenotype 225/257    * WARNING: excluding 1 monomorphic variants\n",
      "    processing phenotype 226/257    * WARNING: excluding 1 monomorphic variants\n",
      "    processing phenotype 230/257    * WARNING: excluding 1 monomorphic variants\n",
      "    processing phenotype 232/257    * WARNING: excluding 1 monomorphic variants\n",
      "    processing phenotype 235/257    * WARNING: excluding 1 monomorphic variants\n",
      "    processing phenotype 236/257    * WARNING: excluding 1 monomorphic variants\n",
      "    processing phenotype 245/257    * WARNING: excluding 3 monomorphic variants\n",
      "    processing phenotype 247/257    * WARNING: excluding 3 monomorphic variants\n",
      "    processing phenotype 248/257    * WARNING: excluding 3 monomorphic variants\n",
      "    processing phenotype 250/257    * WARNING: excluding 3 monomorphic variants\n",
      "    * WARNING: excluding 3 monomorphic variants\n",
      "    processing phenotype 251/257    * WARNING: excluding 3 monomorphic variants\n",
      "    processing phenotype 257/257\n",
      "    * WARNING: excluding 3 monomorphic variants\n",
      "    * WARNING: excluding 3 monomorphic variants\n",
      "    * WARNING: excluding 1 monomorphic variants\n",
      "    * WARNING: excluding 1 monomorphic variants\n",
      "    * WARNING: excluding 1 monomorphic variants\n",
      "  Time elapsed: 0.21 min\n",
      "done.\n"
     ]
    }
   ],
   "source": [
    "## permutation run\n",
    "egenes_df = rpgQTL.run_permutation(genotype_df, variant_df, phenotype_df, phenotype_pos_df, covariates_df, \n",
    "    rpg_df, l_window=2000000, s_window=0, NonHiCType='remove', seed=123456)"
   ]
  },
  {
   "cell_type": "code",
   "execution_count": 6,
   "id": "bb80cb73",
   "metadata": {},
   "outputs": [
    {
     "name": "stdout",
     "output_type": "stream",
     "text": [
      "Computing q-values\n",
      "  * Number of phenotypes tested: 257\n",
      "  * Correlation between Beta-approximated and empirical p-values: : 1.0000\n",
      "  * Calculating q-values with lambda = 0.850\n",
      "  * Proportion of significant phenotypes (1-pi0): 0.12\n",
      "  * QTL phenotypes @ FDR 0.05: 38\n",
      "  * min p-value threshold @ FDR 0.05: 0.0086824\n"
     ]
    }
   ],
   "source": [
    "## calculate q-values\n",
    "post.calculate_qvalues(egenes_df, fdr=0.05, qvalue_lambda=0.85)\n",
    "egenes_df.to_csv(\"%s/%s.egenes.tsv\" % (result_dir, prefix), index=True)"
   ]
  },
  {
   "cell_type": "code",
   "execution_count": 7,
   "id": "b1f2f111",
   "metadata": {},
   "outputs": [
    {
     "name": "stdout",
     "output_type": "stream",
     "text": [
      "[May 20 16:29:22] tensorQTL: filtering significant variant-phenotype pairs\n",
      "  * parsing significant variant-phenotype pairs for chr. 1/1\n",
      "[May 20 16:29:22] done\n"
     ]
    }
   ],
   "source": [
    "## significant pairs\n",
    "pairs_df = post.get_significant_pairs(egenes_df, \"%s/%s\" % (result_dir, prefix))\n",
    "pairs_df.to_csv(\"%s/%s.sig_pairs.tsv\" % (result_dir, prefix), index=False)"
   ]
  },
  {
   "cell_type": "code",
   "execution_count": 8,
   "id": "6aadc4ab",
   "metadata": {},
   "outputs": [
    {
     "name": "stdout",
     "output_type": "stream",
     "text": [
      "cis-QTL mapping: conditionally independent variants\n",
      "  * 200 samples\n",
      "  * 38/257 significant phenotypes\n",
      "  * 38 covariates\n",
      "  * 237916 variants\n",
      "  * using seed 123456\n",
      "  * computing independent QTLs\n",
      "    processing phenotype 38/38\n",
      "  Time elapsed: 0.04 min\n",
      "done.\n"
     ]
    }
   ],
   "source": [
    "## independent eQTL\n",
    "indep_df = rpgQTL.run_independent(genotype_df, variant_df, egenes_df, phenotype_df, phenotype_pos_df, covariates_df, \n",
    "    rpg_df, l_window=2000000, s_window=0, NonHiCType='remove', seed=123456)\n",
    "indep_df.to_csv(\"%s/%s.indep.tsv\" % (result_dir, prefix), index=False)"
   ]
  }
 ],
 "metadata": {
  "kernelspec": {
   "display_name": "Python 3 (ipykernel)",
   "language": "python",
   "name": "python3"
  },
  "language_info": {
   "codemirror_mode": {
    "name": "ipython",
    "version": 3
   },
   "file_extension": ".py",
   "mimetype": "text/x-python",
   "name": "python",
   "nbconvert_exporter": "python",
   "pygments_lexer": "ipython3",
   "version": "3.8.16"
  }
 },
 "nbformat": 4,
 "nbformat_minor": 5
}
