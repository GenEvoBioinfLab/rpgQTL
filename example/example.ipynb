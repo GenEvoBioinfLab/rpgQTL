{
 "cells": [
  {
   "cell_type": "code",
   "execution_count": null,
   "id": "efficient-figure",
   "metadata": {},
   "outputs": [],
   "source": [
    "import os\n",
    "import pandas as pd\n",
    "import tensorqtl\n",
    "from tensorqtl import genotypeio, post\n",
    "import rpgQTL\n",
    "import sys"
   ]
  },
  {
   "cell_type": "code",
   "execution_count": null,
   "id": "mighty-december",
   "metadata": {},
   "outputs": [],
   "source": [
    "### main output directory\n",
    "out_dir = \"./out_dir\"\n",
    "os.makedirs(out_dir, exist_ok=True)"
   ]
  },
  {
   "cell_type": "code",
   "execution_count": null,
   "id": "elementary-reset",
   "metadata": {},
   "outputs": [],
   "source": [
    "### read genotype and expression data\n",
    "plink_prefix_path = '../data/GTEX_download/GTEx_Analysis_v8_genotype/GTEx_Analysis_2017-06-05_v8_WholeGenomeSeq_838Indiv_Analysis_Freeze.SHAPEIT2_phased.MAF01'\n",
    "expression_bed = '../data/GTEX_download/GTEx_Analysis_v8_eQTL_expression_matrices/Liver.v8.normalized_expression.bed.gz'\n",
    "covariates_file = '../data/GTEX_download/GTEx_Analysis_v8_eQTL_covariates/Liver.v8.covariates.txt'\n",
    "\n",
    "phenotype_df, phenotype_pos_df = tensorqtl.read_phenotype_bed(expression_bed)\n",
    "covariates_df = pd.read_csv(covariates_file, sep='\\t', index_col=0).T\n",
    "pr = genotypeio.PlinkReader(plink_prefix_path, select_samples=phenotype_df.columns)\n",
    "genotype_df = pr.load_genotypes()\n",
    "variant_df = pr.bim.set_index('snp')[['chrom', 'pos']]"
   ]
  },
  {
   "cell_type": "code",
   "execution_count": null,
   "id": "scientific-utilization",
   "metadata": {},
   "outputs": [],
   "source": [
    "### RPG file\n",
    "rpg_df = \"./Liver.rpg_gtex\""
   ]
  },
  {
   "cell_type": "code",
   "execution_count": null,
   "id": "biological-oregon",
   "metadata": {},
   "outputs": [],
   "source": [
    "### nominal run\n",
    "rpgQTL.run_nominal(genotype_df, variant_df, phenotype_df, phenotype_pos_df, covariates_df,\n",
    "                   rpg_df, l_window=2000000, s_window=0, NonHiCType='remove',\n",
    "                   output_dir=out_dir, prefix=\"RPG\")"
   ]
  },
  {
   "cell_type": "code",
   "execution_count": null,
   "id": "honest-implementation",
   "metadata": {},
   "outputs": [],
   "source": [
    "### permutation run\n",
    "egenes_df = rpgQTL.run_permutation(genotype_df, variant_df, phenotype_df, phenotype_pos_df, covariates_df, \n",
    "                                   rpg_df, l_window=2000000, s_window=0, NonHiCType='remove', seed=123456)"
   ]
  },
  {
   "cell_type": "code",
   "execution_count": null,
   "id": "technical-passing",
   "metadata": {},
   "outputs": [],
   "source": [
    "#### calculate q-values\n",
    "post.calculate_qvalues(egenes_df, fdr=0.05, qvalue_lambda=0.85)\n",
    "egenes_df.to_csv(\"%s/RPG.egenes.tsv\" % out_dir, index=True)"
   ]
  },
  {
   "cell_type": "code",
   "execution_count": null,
   "id": "english-stone",
   "metadata": {},
   "outputs": [],
   "source": [
    "### significant pairs\n",
    "pairs_df = post.get_significant_pairs(egenes_df, \"%s/%s\" % (out_dir, prefix))\n",
    "pairs_df.to_csv(\"%s/RPG.sig_pairs.tsv\" % out_dir, index=False)"
   ]
  },
  {
   "cell_type": "code",
   "execution_count": null,
   "id": "trying-cutting",
   "metadata": {},
   "outputs": [],
   "source": [
    "### independent eQTL\n",
    "indep_df = rpgQTL.run_independent(genotype_df, variant_df, egenes_df, phenotype_df, phenotype_pos_df, covariates_df, \n",
    "                                  rpg_df, l_window=2000000, s_window=0, NonHiCType='remove', seed=123456)\n",
    "indep_df.to_csv(\"%s/RPG.indep.tsv\" % out_dir, index=False)"
   ]
  }
 ],
 "metadata": {
  "kernelspec": {
   "display_name": "Python 3",
   "language": "python",
   "name": "python3"
  },
  "language_info": {
   "codemirror_mode": {
    "name": "ipython",
    "version": 3
   },
   "file_extension": ".py",
   "mimetype": "text/x-python",
   "name": "python",
   "nbconvert_exporter": "python",
   "pygments_lexer": "ipython3",
   "version": "3.8.5"
  }
 },
 "nbformat": 4,
 "nbformat_minor": 5
}
